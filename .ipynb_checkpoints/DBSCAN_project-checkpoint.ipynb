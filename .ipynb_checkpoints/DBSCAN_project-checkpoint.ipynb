{
 "cells": [
  {
   "cell_type": "code",
   "execution_count": 1,
   "id": "e222068b-1347-434c-9985-c65b1532a7fd",
   "metadata": {},
   "outputs": [],
   "source": [
    "import os\n",
    "import pandas as pd"
   ]
  },
  {
   "cell_type": "code",
   "execution_count": 5,
   "id": "0e4e24c1-b007-4f28-b1ed-595235d3bdde",
   "metadata": {},
   "outputs": [],
   "source": [
    "# Specify the folder path containing the CSV files\n",
    "folder_path = 'data'\n",
    "# Initialize an empty dictionary to store the DataFrames\n",
    "# Initialize an empty list to store individual DataFrames\n",
    "df_list = []\n",
    "\n",
    "for filename in os.listdir(folder_path):\n",
    "    # Check if the file is a CSV file\n",
    "    if filename.endswith('.csv'):\n",
    "        # Construct the full file path\n",
    "        file_path = os.path.join(folder_path, filename)\n",
    "        \n",
    "        # Read the CSV file into a DataFrame, specifying the separator as ';'\n",
    "        df = pd.read_csv(file_path, sep=';')\n",
    "        \n",
    "        # Append the DataFrame to the list\n",
    "        df_list.append(df)\n",
    "\n",
    "# Merge all DataFrames into one\n",
    "merged_df = pd.concat(df_list, ignore_index=True)"
   ]
  },
  {
   "cell_type": "code",
   "execution_count": 6,
   "id": "8e1a964a-02ae-40d0-b53d-32ab8b7bdce5",
   "metadata": {},
   "outputs": [
    {
     "data": {
      "text/plain": [
       "(8852195, 8)"
      ]
     },
     "execution_count": 6,
     "metadata": {},
     "output_type": "execute_result"
    }
   ],
   "source": [
    "merged_df.shape"
   ]
  },
  {
   "cell_type": "code",
   "execution_count": 7,
   "id": "b41c70d9-1679-4b3e-b448-99265f14d6d1",
   "metadata": {},
   "outputs": [
    {
     "data": {
      "text/html": [
       "<div>\n",
       "<style scoped>\n",
       "    .dataframe tbody tr th:only-of-type {\n",
       "        vertical-align: middle;\n",
       "    }\n",
       "\n",
       "    .dataframe tbody tr th {\n",
       "        vertical-align: top;\n",
       "    }\n",
       "\n",
       "    .dataframe thead th {\n",
       "        text-align: right;\n",
       "    }\n",
       "</style>\n",
       "<table border=\"1\" class=\"dataframe\">\n",
       "  <thead>\n",
       "    <tr style=\"text-align: right;\">\n",
       "      <th></th>\n",
       "      <th>sensor_id</th>\n",
       "      <th>sensor_type</th>\n",
       "      <th>location</th>\n",
       "      <th>lat</th>\n",
       "      <th>lon</th>\n",
       "      <th>timestamp</th>\n",
       "      <th>value_type</th>\n",
       "      <th>value</th>\n",
       "    </tr>\n",
       "  </thead>\n",
       "  <tbody>\n",
       "    <tr>\n",
       "      <th>0</th>\n",
       "      <td>49</td>\n",
       "      <td>pms5003</td>\n",
       "      <td>3573</td>\n",
       "      <td>-1.289</td>\n",
       "      <td>36.825</td>\n",
       "      <td>2023-11-01T00:00:10.706572+00:00</td>\n",
       "      <td>P2</td>\n",
       "      <td>20.6</td>\n",
       "    </tr>\n",
       "    <tr>\n",
       "      <th>1</th>\n",
       "      <td>49</td>\n",
       "      <td>pms5003</td>\n",
       "      <td>3573</td>\n",
       "      <td>-1.289</td>\n",
       "      <td>36.825</td>\n",
       "      <td>2023-11-01T00:00:10.706572+00:00</td>\n",
       "      <td>P1</td>\n",
       "      <td>22.4</td>\n",
       "    </tr>\n",
       "    <tr>\n",
       "      <th>2</th>\n",
       "      <td>49</td>\n",
       "      <td>pms5003</td>\n",
       "      <td>3573</td>\n",
       "      <td>-1.289</td>\n",
       "      <td>36.825</td>\n",
       "      <td>2023-11-01T00:00:10.706572+00:00</td>\n",
       "      <td>P0</td>\n",
       "      <td>10.4</td>\n",
       "    </tr>\n",
       "    <tr>\n",
       "      <th>3</th>\n",
       "      <td>50</td>\n",
       "      <td>DHT22</td>\n",
       "      <td>3573</td>\n",
       "      <td>-1.289</td>\n",
       "      <td>36.825</td>\n",
       "      <td>2023-11-01T00:00:11.694753+00:00</td>\n",
       "      <td>humidity</td>\n",
       "      <td>99.9</td>\n",
       "    </tr>\n",
       "    <tr>\n",
       "      <th>4</th>\n",
       "      <td>50</td>\n",
       "      <td>DHT22</td>\n",
       "      <td>3573</td>\n",
       "      <td>-1.289</td>\n",
       "      <td>36.825</td>\n",
       "      <td>2023-11-01T00:00:11.694753+00:00</td>\n",
       "      <td>temperature</td>\n",
       "      <td>17.9</td>\n",
       "    </tr>\n",
       "  </tbody>\n",
       "</table>\n",
       "</div>"
      ],
      "text/plain": [
       "   sensor_id sensor_type  location    lat     lon  \\\n",
       "0         49     pms5003      3573 -1.289  36.825   \n",
       "1         49     pms5003      3573 -1.289  36.825   \n",
       "2         49     pms5003      3573 -1.289  36.825   \n",
       "3         50       DHT22      3573 -1.289  36.825   \n",
       "4         50       DHT22      3573 -1.289  36.825   \n",
       "\n",
       "                          timestamp   value_type  value  \n",
       "0  2023-11-01T00:00:10.706572+00:00           P2   20.6  \n",
       "1  2023-11-01T00:00:10.706572+00:00           P1   22.4  \n",
       "2  2023-11-01T00:00:10.706572+00:00           P0   10.4  \n",
       "3  2023-11-01T00:00:11.694753+00:00     humidity   99.9  \n",
       "4  2023-11-01T00:00:11.694753+00:00  temperature   17.9  "
      ]
     },
     "execution_count": 7,
     "metadata": {},
     "output_type": "execute_result"
    }
   ],
   "source": [
    "merged_df.head()"
   ]
  },
  {
   "cell_type": "code",
   "execution_count": null,
   "id": "6769f614-3bdf-45c0-a84b-86993c50e6b4",
   "metadata": {},
   "outputs": [],
   "source": []
  }
 ],
 "metadata": {
  "kernelspec": {
   "display_name": "Python 3 (ipykernel)",
   "language": "python",
   "name": "python3"
  },
  "language_info": {
   "codemirror_mode": {
    "name": "ipython",
    "version": 3
   },
   "file_extension": ".py",
   "mimetype": "text/x-python",
   "name": "python",
   "nbconvert_exporter": "python",
   "pygments_lexer": "ipython3",
   "version": "3.12.7"
  }
 },
 "nbformat": 4,
 "nbformat_minor": 5
}
