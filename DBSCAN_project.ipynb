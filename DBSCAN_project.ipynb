{
 "cells": [
  {
   "cell_type": "markdown",
   "id": "b20a6b8e-0ba6-47e9-9318-e34be9a3463f",
   "metadata": {},
   "source": [
    "## Density-Based Spatial Clustering to Uncover Hidden Irregularities in Nairobi’s Urban Air Pollution"
   ]
  },
  {
   "cell_type": "markdown",
   "id": "62b9ed22-7473-4476-8410-dfd0a68f3b54",
   "metadata": {},
   "source": [
    "### Ruth Mwende Mavindu \n",
    "### Student ID: 169540\n"
   ]
  },
  {
   "cell_type": "markdown",
   "id": "87f56f2b-f15d-43dc-9010-c25416d37e85",
   "metadata": {},
   "source": [
    "Importing the necessary packages"
   ]
  },
  {
   "cell_type": "code",
   "execution_count": 1,
   "id": "e222068b-1347-434c-9985-c65b1532a7fd",
   "metadata": {},
   "outputs": [],
   "source": [
    "import os\n",
    "import pandas as pd\n",
    "import pandas as pd\n",
    "import numpy as np\n",
    "from sklearn.preprocessing import StandardScaler\n",
    "from sklearn.cluster import DBSCAN\n",
    "import matplotlib.pyplot as plt\n",
    "import seaborn as sns"
   ]
  },
  {
   "cell_type": "markdown",
   "id": "baab965c-846e-4f88-93c2-44b15bbf82d2",
   "metadata": {},
   "source": [
    "Reading 2023 data from csv files"
   ]
  },
  {
   "cell_type": "code",
   "execution_count": 2,
   "id": "0e4e24c1-b007-4f28-b1ed-595235d3bdde",
   "metadata": {},
   "outputs": [],
   "source": [
    "# Specify the folder path containing the 2023 CSV files\n",
    "folder_path = 'data'\n",
    "# Initialize an empty dictionary to store the DataFrames\n",
    "# Initialize an empty list to store individual DataFrames\n",
    "df_list = []\n",
    "\n",
    "for filename in os.listdir(folder_path):\n",
    "    # Check if the file is a CSV file\n",
    "    if filename.endswith('.csv'):\n",
    "        # Construct the full file path\n",
    "        file_path = os.path.join(folder_path, filename)\n",
    "        \n",
    "        # Read the CSV file into a DataFrame, specifying the separator as ';'\n",
    "        df = pd.read_csv(file_path, sep=';')\n",
    "        \n",
    "        # Append the DataFrame to the list\n",
    "        df_list.append(df)\n",
    "\n",
    "# Merge all DataFrames into one\n",
    "merged_df = pd.concat(df_list, ignore_index=True)"
   ]
  },
  {
   "cell_type": "code",
   "execution_count": 3,
   "id": "8e1a964a-02ae-40d0-b53d-32ab8b7bdce5",
   "metadata": {},
   "outputs": [
    {
     "data": {
      "text/plain": [
       "(8852195, 8)"
      ]
     },
     "execution_count": 3,
     "metadata": {},
     "output_type": "execute_result"
    }
   ],
   "source": [
    "merged_df.shape"
   ]
  },
  {
   "cell_type": "code",
   "execution_count": 4,
   "id": "b41c70d9-1679-4b3e-b448-99265f14d6d1",
   "metadata": {},
   "outputs": [
    {
     "data": {
      "text/html": [
       "<div>\n",
       "<style scoped>\n",
       "    .dataframe tbody tr th:only-of-type {\n",
       "        vertical-align: middle;\n",
       "    }\n",
       "\n",
       "    .dataframe tbody tr th {\n",
       "        vertical-align: top;\n",
       "    }\n",
       "\n",
       "    .dataframe thead th {\n",
       "        text-align: right;\n",
       "    }\n",
       "</style>\n",
       "<table border=\"1\" class=\"dataframe\">\n",
       "  <thead>\n",
       "    <tr style=\"text-align: right;\">\n",
       "      <th></th>\n",
       "      <th>sensor_id</th>\n",
       "      <th>sensor_type</th>\n",
       "      <th>location</th>\n",
       "      <th>lat</th>\n",
       "      <th>lon</th>\n",
       "      <th>timestamp</th>\n",
       "      <th>value_type</th>\n",
       "      <th>value</th>\n",
       "    </tr>\n",
       "  </thead>\n",
       "  <tbody>\n",
       "    <tr>\n",
       "      <th>0</th>\n",
       "      <td>49</td>\n",
       "      <td>pms5003</td>\n",
       "      <td>3573</td>\n",
       "      <td>-1.289</td>\n",
       "      <td>36.825</td>\n",
       "      <td>2023-11-01T00:00:10.706572+00:00</td>\n",
       "      <td>P2</td>\n",
       "      <td>20.6</td>\n",
       "    </tr>\n",
       "    <tr>\n",
       "      <th>1</th>\n",
       "      <td>49</td>\n",
       "      <td>pms5003</td>\n",
       "      <td>3573</td>\n",
       "      <td>-1.289</td>\n",
       "      <td>36.825</td>\n",
       "      <td>2023-11-01T00:00:10.706572+00:00</td>\n",
       "      <td>P1</td>\n",
       "      <td>22.4</td>\n",
       "    </tr>\n",
       "    <tr>\n",
       "      <th>2</th>\n",
       "      <td>49</td>\n",
       "      <td>pms5003</td>\n",
       "      <td>3573</td>\n",
       "      <td>-1.289</td>\n",
       "      <td>36.825</td>\n",
       "      <td>2023-11-01T00:00:10.706572+00:00</td>\n",
       "      <td>P0</td>\n",
       "      <td>10.4</td>\n",
       "    </tr>\n",
       "    <tr>\n",
       "      <th>3</th>\n",
       "      <td>50</td>\n",
       "      <td>DHT22</td>\n",
       "      <td>3573</td>\n",
       "      <td>-1.289</td>\n",
       "      <td>36.825</td>\n",
       "      <td>2023-11-01T00:00:11.694753+00:00</td>\n",
       "      <td>humidity</td>\n",
       "      <td>99.9</td>\n",
       "    </tr>\n",
       "    <tr>\n",
       "      <th>4</th>\n",
       "      <td>50</td>\n",
       "      <td>DHT22</td>\n",
       "      <td>3573</td>\n",
       "      <td>-1.289</td>\n",
       "      <td>36.825</td>\n",
       "      <td>2023-11-01T00:00:11.694753+00:00</td>\n",
       "      <td>temperature</td>\n",
       "      <td>17.9</td>\n",
       "    </tr>\n",
       "    <tr>\n",
       "      <th>5</th>\n",
       "      <td>49</td>\n",
       "      <td>pms5003</td>\n",
       "      <td>3573</td>\n",
       "      <td>-1.289</td>\n",
       "      <td>36.825</td>\n",
       "      <td>2023-11-01T00:00:42.709249+00:00</td>\n",
       "      <td>P2</td>\n",
       "      <td>14.6</td>\n",
       "    </tr>\n",
       "    <tr>\n",
       "      <th>6</th>\n",
       "      <td>49</td>\n",
       "      <td>pms5003</td>\n",
       "      <td>3573</td>\n",
       "      <td>-1.289</td>\n",
       "      <td>36.825</td>\n",
       "      <td>2023-11-01T00:00:42.709249+00:00</td>\n",
       "      <td>P1</td>\n",
       "      <td>18.4</td>\n",
       "    </tr>\n",
       "    <tr>\n",
       "      <th>7</th>\n",
       "      <td>49</td>\n",
       "      <td>pms5003</td>\n",
       "      <td>3573</td>\n",
       "      <td>-1.289</td>\n",
       "      <td>36.825</td>\n",
       "      <td>2023-11-01T00:00:42.709249+00:00</td>\n",
       "      <td>P0</td>\n",
       "      <td>10.4</td>\n",
       "    </tr>\n",
       "    <tr>\n",
       "      <th>8</th>\n",
       "      <td>50</td>\n",
       "      <td>DHT22</td>\n",
       "      <td>3573</td>\n",
       "      <td>-1.289</td>\n",
       "      <td>36.825</td>\n",
       "      <td>2023-11-01T00:00:43.479215+00:00</td>\n",
       "      <td>humidity</td>\n",
       "      <td>99.9</td>\n",
       "    </tr>\n",
       "    <tr>\n",
       "      <th>9</th>\n",
       "      <td>50</td>\n",
       "      <td>DHT22</td>\n",
       "      <td>3573</td>\n",
       "      <td>-1.289</td>\n",
       "      <td>36.825</td>\n",
       "      <td>2023-11-01T00:00:43.479215+00:00</td>\n",
       "      <td>temperature</td>\n",
       "      <td>17.9</td>\n",
       "    </tr>\n",
       "  </tbody>\n",
       "</table>\n",
       "</div>"
      ],
      "text/plain": [
       "   sensor_id sensor_type  location    lat     lon  \\\n",
       "0         49     pms5003      3573 -1.289  36.825   \n",
       "1         49     pms5003      3573 -1.289  36.825   \n",
       "2         49     pms5003      3573 -1.289  36.825   \n",
       "3         50       DHT22      3573 -1.289  36.825   \n",
       "4         50       DHT22      3573 -1.289  36.825   \n",
       "5         49     pms5003      3573 -1.289  36.825   \n",
       "6         49     pms5003      3573 -1.289  36.825   \n",
       "7         49     pms5003      3573 -1.289  36.825   \n",
       "8         50       DHT22      3573 -1.289  36.825   \n",
       "9         50       DHT22      3573 -1.289  36.825   \n",
       "\n",
       "                          timestamp   value_type  value  \n",
       "0  2023-11-01T00:00:10.706572+00:00           P2   20.6  \n",
       "1  2023-11-01T00:00:10.706572+00:00           P1   22.4  \n",
       "2  2023-11-01T00:00:10.706572+00:00           P0   10.4  \n",
       "3  2023-11-01T00:00:11.694753+00:00     humidity   99.9  \n",
       "4  2023-11-01T00:00:11.694753+00:00  temperature   17.9  \n",
       "5  2023-11-01T00:00:42.709249+00:00           P2   14.6  \n",
       "6  2023-11-01T00:00:42.709249+00:00           P1   18.4  \n",
       "7  2023-11-01T00:00:42.709249+00:00           P0   10.4  \n",
       "8  2023-11-01T00:00:43.479215+00:00     humidity   99.9  \n",
       "9  2023-11-01T00:00:43.479215+00:00  temperature   17.9  "
      ]
     },
     "execution_count": 4,
     "metadata": {},
     "output_type": "execute_result"
    }
   ],
   "source": [
    "merged_df.head(10)"
   ]
  },
  {
   "cell_type": "code",
   "execution_count": 5,
   "id": "46d846f0-fd83-4d8c-b395-2c4517f7f4a1",
   "metadata": {},
   "outputs": [
    {
     "data": {
      "text/html": [
       "<div>\n",
       "<style scoped>\n",
       "    .dataframe tbody tr th:only-of-type {\n",
       "        vertical-align: middle;\n",
       "    }\n",
       "\n",
       "    .dataframe tbody tr th {\n",
       "        vertical-align: top;\n",
       "    }\n",
       "\n",
       "    .dataframe thead th {\n",
       "        text-align: right;\n",
       "    }\n",
       "</style>\n",
       "<table border=\"1\" class=\"dataframe\">\n",
       "  <thead>\n",
       "    <tr style=\"text-align: right;\">\n",
       "      <th></th>\n",
       "      <th>sensor_id</th>\n",
       "      <th>location</th>\n",
       "      <th>lat</th>\n",
       "      <th>lon</th>\n",
       "      <th>value</th>\n",
       "    </tr>\n",
       "  </thead>\n",
       "  <tbody>\n",
       "    <tr>\n",
       "      <th>count</th>\n",
       "      <td>8.852195e+06</td>\n",
       "      <td>8.852195e+06</td>\n",
       "      <td>8.852195e+06</td>\n",
       "      <td>8.852195e+06</td>\n",
       "      <td>8.852195e+06</td>\n",
       "    </tr>\n",
       "    <tr>\n",
       "      <th>mean</th>\n",
       "      <td>1.554073e+02</td>\n",
       "      <td>2.430415e+03</td>\n",
       "      <td>-1.283205e+00</td>\n",
       "      <td>3.681317e+01</td>\n",
       "      <td>1.299241e+02</td>\n",
       "    </tr>\n",
       "    <tr>\n",
       "      <th>std</th>\n",
       "      <td>2.369318e+02</td>\n",
       "      <td>1.652643e+03</td>\n",
       "      <td>2.703380e-02</td>\n",
       "      <td>4.909240e-02</td>\n",
       "      <td>2.497621e+03</td>\n",
       "    </tr>\n",
       "    <tr>\n",
       "      <th>min</th>\n",
       "      <td>4.900000e+01</td>\n",
       "      <td>7.000000e+00</td>\n",
       "      <td>-1.421000e+00</td>\n",
       "      <td>3.669300e+01</td>\n",
       "      <td>0.000000e+00</td>\n",
       "    </tr>\n",
       "    <tr>\n",
       "      <th>25%</th>\n",
       "      <td>5.000000e+01</td>\n",
       "      <td>7.600000e+01</td>\n",
       "      <td>-1.289000e+00</td>\n",
       "      <td>3.678200e+01</td>\n",
       "      <td>1.540000e+01</td>\n",
       "    </tr>\n",
       "    <tr>\n",
       "      <th>50%</th>\n",
       "      <td>1.380000e+02</td>\n",
       "      <td>3.573000e+03</td>\n",
       "      <td>-1.289000e+00</td>\n",
       "      <td>3.682500e+01</td>\n",
       "      <td>2.375000e+01</td>\n",
       "    </tr>\n",
       "    <tr>\n",
       "      <th>75%</th>\n",
       "      <td>1.600000e+02</td>\n",
       "      <td>3.576000e+03</td>\n",
       "      <td>-1.265000e+00</td>\n",
       "      <td>3.682900e+01</td>\n",
       "      <td>4.475000e+01</td>\n",
       "    </tr>\n",
       "    <tr>\n",
       "      <th>max</th>\n",
       "      <td>4.850000e+03</td>\n",
       "      <td>3.626000e+03</td>\n",
       "      <td>-1.239000e+00</td>\n",
       "      <td>3.695300e+01</td>\n",
       "      <td>6.553500e+04</td>\n",
       "    </tr>\n",
       "  </tbody>\n",
       "</table>\n",
       "</div>"
      ],
      "text/plain": [
       "          sensor_id      location           lat           lon         value\n",
       "count  8.852195e+06  8.852195e+06  8.852195e+06  8.852195e+06  8.852195e+06\n",
       "mean   1.554073e+02  2.430415e+03 -1.283205e+00  3.681317e+01  1.299241e+02\n",
       "std    2.369318e+02  1.652643e+03  2.703380e-02  4.909240e-02  2.497621e+03\n",
       "min    4.900000e+01  7.000000e+00 -1.421000e+00  3.669300e+01  0.000000e+00\n",
       "25%    5.000000e+01  7.600000e+01 -1.289000e+00  3.678200e+01  1.540000e+01\n",
       "50%    1.380000e+02  3.573000e+03 -1.289000e+00  3.682500e+01  2.375000e+01\n",
       "75%    1.600000e+02  3.576000e+03 -1.265000e+00  3.682900e+01  4.475000e+01\n",
       "max    4.850000e+03  3.626000e+03 -1.239000e+00  3.695300e+01  6.553500e+04"
      ]
     },
     "execution_count": 5,
     "metadata": {},
     "output_type": "execute_result"
    }
   ],
   "source": [
    "merged_df.describe()"
   ]
  },
  {
   "cell_type": "code",
   "execution_count": null,
   "id": "04835756-18d2-4a23-afba-ebd7ca2807a1",
   "metadata": {},
   "outputs": [],
   "source": []
  },
  {
   "cell_type": "markdown",
   "id": "25e78737-5f9d-4dd6-8b6b-888b6deb95e6",
   "metadata": {},
   "source": [
    "### EDA\n"
   ]
  },
  {
   "cell_type": "code",
   "execution_count": 6,
   "id": "e7d8d4d4-90a5-4180-b908-afec6204d714",
   "metadata": {},
   "outputs": [],
   "source": [
    "#check for missing values"
   ]
  },
  {
   "cell_type": "code",
   "execution_count": 7,
   "id": "169d7b29-ea5c-465b-87b3-6b5687e86497",
   "metadata": {},
   "outputs": [
    {
     "data": {
      "text/plain": [
       "sensor_id      0\n",
       "sensor_type    0\n",
       "location       0\n",
       "lat            0\n",
       "lon            0\n",
       "timestamp      0\n",
       "value_type     0\n",
       "value          0\n",
       "dtype: int64"
      ]
     },
     "execution_count": 7,
     "metadata": {},
     "output_type": "execute_result"
    }
   ],
   "source": [
    "merged_df.isna().sum() "
   ]
  },
  {
   "cell_type": "code",
   "execution_count": 8,
   "id": "bf6714b2-f2e8-4b8f-9a07-1b87f89b5533",
   "metadata": {},
   "outputs": [],
   "source": [
    "#check for cardinality"
   ]
  },
  {
   "cell_type": "code",
   "execution_count": 9,
   "id": "84bb759c-b327-4fbe-a859-83bb40068fdc",
   "metadata": {},
   "outputs": [
    {
     "data": {
      "text/plain": [
       "sensor_id        int64\n",
       "sensor_type     object\n",
       "location         int64\n",
       "lat            float64\n",
       "lon            float64\n",
       "timestamp       object\n",
       "value_type      object\n",
       "value          float64\n",
       "dtype: object"
      ]
     },
     "execution_count": 9,
     "metadata": {},
     "output_type": "execute_result"
    }
   ],
   "source": [
    "merged_df.dtypes"
   ]
  },
  {
   "cell_type": "code",
   "execution_count": 10,
   "id": "259c17f9-1049-4e45-9c17-7180031e764b",
   "metadata": {},
   "outputs": [
    {
     "data": {
      "text/plain": [
       "3"
      ]
     },
     "execution_count": 10,
     "metadata": {},
     "output_type": "execute_result"
    }
   ],
   "source": [
    "merged_df['sensor_type'].nunique()"
   ]
  },
  {
   "cell_type": "code",
   "execution_count": 11,
   "id": "56050098-c8a8-4cf9-8bd4-6251ac43cab6",
   "metadata": {},
   "outputs": [
    {
     "data": {
      "text/plain": [
       "array(['pms5003', 'DHT22', 'SDS011'], dtype=object)"
      ]
     },
     "execution_count": 11,
     "metadata": {},
     "output_type": "execute_result"
    }
   ],
   "source": [
    "merged_df['sensor_type'].unique()"
   ]
  },
  {
   "cell_type": "code",
   "execution_count": 12,
   "id": "ebb46596-5f1e-4b6f-b14c-5770578d3033",
   "metadata": {},
   "outputs": [
    {
     "data": {
      "text/plain": [
       "array([  49,   50,  178,  177,  160,  800,  801,  138,  139,  224,  223,\n",
       "        174,  173,  176,  175,  140,  141, 4849, 4850,   71,   72,  103,\n",
       "        104,  158,  159,  792,  793,   87,   88,  944,  945,   52,   51,\n",
       "       4820, 4821], dtype=int64)"
      ]
     },
     "execution_count": 12,
     "metadata": {},
     "output_type": "execute_result"
    }
   ],
   "source": [
    "merged_df['sensor_id'].unique()"
   ]
  },
  {
   "cell_type": "markdown",
   "id": "5a667c69-f3b9-474b-92aa-9d74b764d3c2",
   "metadata": {},
   "source": [
    "  there is a total of 35 different sensors"
   ]
  },
  {
   "cell_type": "code",
   "execution_count": 13,
   "id": "8e5843f6-4fce-4737-a1f1-195c422655bb",
   "metadata": {},
   "outputs": [],
   "source": [
    "#check for the different locations"
   ]
  },
  {
   "cell_type": "code",
   "execution_count": 14,
   "id": "ba1232bc-082e-4758-8a62-c1f66544ec1a",
   "metadata": {},
   "outputs": [
    {
     "data": {
      "text/plain": [
       "array([3573, 3612,   74,   35, 3576, 3596,   76, 3579, 3626,    7,   33,\n",
       "       3580,   77,   37,   78,   27], dtype=int64)"
      ]
     },
     "execution_count": 14,
     "metadata": {},
     "output_type": "execute_result"
    }
   ],
   "source": [
    "merged_df['location'].unique()"
   ]
  },
  {
   "cell_type": "markdown",
   "id": "de714405-43a7-4016-bdf0-76e1f7687065",
   "metadata": {},
   "source": [
    "There are 16 different locations"
   ]
  },
  {
   "cell_type": "code",
   "execution_count": 15,
   "id": "6aae094b-1b46-4a22-9288-6602f9a03356",
   "metadata": {},
   "outputs": [],
   "source": [
    "#value types- types of measurements"
   ]
  },
  {
   "cell_type": "code",
   "execution_count": 16,
   "id": "d766d602-e3c8-4b81-9715-67bfe916c5fb",
   "metadata": {},
   "outputs": [
    {
     "data": {
      "text/plain": [
       "array(['P2', 'P1', 'P0', 'humidity', 'temperature'], dtype=object)"
      ]
     },
     "execution_count": 16,
     "metadata": {},
     "output_type": "execute_result"
    }
   ],
   "source": [
    "merged_df['value_type'].unique()"
   ]
  },
  {
   "cell_type": "code",
   "execution_count": 17,
   "id": "3c20b9d7-fced-4258-829a-c7e1d2c617a1",
   "metadata": {},
   "outputs": [],
   "source": [
    "#investigate sensor type = pms5003"
   ]
  },
  {
   "cell_type": "code",
   "execution_count": 18,
   "id": "f8343bbe-5792-47a3-bcc9-31b9003a3011",
   "metadata": {},
   "outputs": [
    {
     "data": {
      "text/html": [
       "<div>\n",
       "<style scoped>\n",
       "    .dataframe tbody tr th:only-of-type {\n",
       "        vertical-align: middle;\n",
       "    }\n",
       "\n",
       "    .dataframe tbody tr th {\n",
       "        vertical-align: top;\n",
       "    }\n",
       "\n",
       "    .dataframe thead th {\n",
       "        text-align: right;\n",
       "    }\n",
       "</style>\n",
       "<table border=\"1\" class=\"dataframe\">\n",
       "  <thead>\n",
       "    <tr style=\"text-align: right;\">\n",
       "      <th></th>\n",
       "      <th>sensor_id</th>\n",
       "      <th>sensor_type</th>\n",
       "      <th>location</th>\n",
       "      <th>lat</th>\n",
       "      <th>lon</th>\n",
       "      <th>timestamp</th>\n",
       "      <th>value_type</th>\n",
       "      <th>value</th>\n",
       "    </tr>\n",
       "  </thead>\n",
       "  <tbody>\n",
       "    <tr>\n",
       "      <th>0</th>\n",
       "      <td>49</td>\n",
       "      <td>pms5003</td>\n",
       "      <td>3573</td>\n",
       "      <td>-1.289</td>\n",
       "      <td>36.825</td>\n",
       "      <td>2023-11-01T00:00:10.706572+00:00</td>\n",
       "      <td>P2</td>\n",
       "      <td>20.6</td>\n",
       "    </tr>\n",
       "    <tr>\n",
       "      <th>1</th>\n",
       "      <td>49</td>\n",
       "      <td>pms5003</td>\n",
       "      <td>3573</td>\n",
       "      <td>-1.289</td>\n",
       "      <td>36.825</td>\n",
       "      <td>2023-11-01T00:00:10.706572+00:00</td>\n",
       "      <td>P1</td>\n",
       "      <td>22.4</td>\n",
       "    </tr>\n",
       "    <tr>\n",
       "      <th>2</th>\n",
       "      <td>49</td>\n",
       "      <td>pms5003</td>\n",
       "      <td>3573</td>\n",
       "      <td>-1.289</td>\n",
       "      <td>36.825</td>\n",
       "      <td>2023-11-01T00:00:10.706572+00:00</td>\n",
       "      <td>P0</td>\n",
       "      <td>10.4</td>\n",
       "    </tr>\n",
       "    <tr>\n",
       "      <th>5</th>\n",
       "      <td>49</td>\n",
       "      <td>pms5003</td>\n",
       "      <td>3573</td>\n",
       "      <td>-1.289</td>\n",
       "      <td>36.825</td>\n",
       "      <td>2023-11-01T00:00:42.709249+00:00</td>\n",
       "      <td>P2</td>\n",
       "      <td>14.6</td>\n",
       "    </tr>\n",
       "    <tr>\n",
       "      <th>6</th>\n",
       "      <td>49</td>\n",
       "      <td>pms5003</td>\n",
       "      <td>3573</td>\n",
       "      <td>-1.289</td>\n",
       "      <td>36.825</td>\n",
       "      <td>2023-11-01T00:00:42.709249+00:00</td>\n",
       "      <td>P1</td>\n",
       "      <td>18.4</td>\n",
       "    </tr>\n",
       "    <tr>\n",
       "      <th>...</th>\n",
       "      <td>...</td>\n",
       "      <td>...</td>\n",
       "      <td>...</td>\n",
       "      <td>...</td>\n",
       "      <td>...</td>\n",
       "      <td>...</td>\n",
       "      <td>...</td>\n",
       "      <td>...</td>\n",
       "    </tr>\n",
       "    <tr>\n",
       "      <th>8852187</th>\n",
       "      <td>49</td>\n",
       "      <td>pms5003</td>\n",
       "      <td>3573</td>\n",
       "      <td>-1.289</td>\n",
       "      <td>36.825</td>\n",
       "      <td>2023-02-28T23:55:45.429267+00:00</td>\n",
       "      <td>P1</td>\n",
       "      <td>18.8</td>\n",
       "    </tr>\n",
       "    <tr>\n",
       "      <th>8852188</th>\n",
       "      <td>49</td>\n",
       "      <td>pms5003</td>\n",
       "      <td>3573</td>\n",
       "      <td>-1.289</td>\n",
       "      <td>36.825</td>\n",
       "      <td>2023-02-28T23:55:45.429267+00:00</td>\n",
       "      <td>P0</td>\n",
       "      <td>8.4</td>\n",
       "    </tr>\n",
       "    <tr>\n",
       "      <th>8852191</th>\n",
       "      <td>49</td>\n",
       "      <td>pms5003</td>\n",
       "      <td>3573</td>\n",
       "      <td>-1.289</td>\n",
       "      <td>36.825</td>\n",
       "      <td>2023-02-28T23:56:17.438376+00:00</td>\n",
       "      <td>P2</td>\n",
       "      <td>12.6</td>\n",
       "    </tr>\n",
       "    <tr>\n",
       "      <th>8852192</th>\n",
       "      <td>49</td>\n",
       "      <td>pms5003</td>\n",
       "      <td>3573</td>\n",
       "      <td>-1.289</td>\n",
       "      <td>36.825</td>\n",
       "      <td>2023-02-28T23:56:17.438376+00:00</td>\n",
       "      <td>P1</td>\n",
       "      <td>15.4</td>\n",
       "    </tr>\n",
       "    <tr>\n",
       "      <th>8852193</th>\n",
       "      <td>49</td>\n",
       "      <td>pms5003</td>\n",
       "      <td>3573</td>\n",
       "      <td>-1.289</td>\n",
       "      <td>36.825</td>\n",
       "      <td>2023-02-28T23:56:17.438376+00:00</td>\n",
       "      <td>P0</td>\n",
       "      <td>9.6</td>\n",
       "    </tr>\n",
       "  </tbody>\n",
       "</table>\n",
       "<p>5115475 rows × 8 columns</p>\n",
       "</div>"
      ],
      "text/plain": [
       "         sensor_id sensor_type  location    lat     lon  \\\n",
       "0               49     pms5003      3573 -1.289  36.825   \n",
       "1               49     pms5003      3573 -1.289  36.825   \n",
       "2               49     pms5003      3573 -1.289  36.825   \n",
       "5               49     pms5003      3573 -1.289  36.825   \n",
       "6               49     pms5003      3573 -1.289  36.825   \n",
       "...            ...         ...       ...    ...     ...   \n",
       "8852187         49     pms5003      3573 -1.289  36.825   \n",
       "8852188         49     pms5003      3573 -1.289  36.825   \n",
       "8852191         49     pms5003      3573 -1.289  36.825   \n",
       "8852192         49     pms5003      3573 -1.289  36.825   \n",
       "8852193         49     pms5003      3573 -1.289  36.825   \n",
       "\n",
       "                                timestamp value_type  value  \n",
       "0        2023-11-01T00:00:10.706572+00:00         P2   20.6  \n",
       "1        2023-11-01T00:00:10.706572+00:00         P1   22.4  \n",
       "2        2023-11-01T00:00:10.706572+00:00         P0   10.4  \n",
       "5        2023-11-01T00:00:42.709249+00:00         P2   14.6  \n",
       "6        2023-11-01T00:00:42.709249+00:00         P1   18.4  \n",
       "...                                   ...        ...    ...  \n",
       "8852187  2023-02-28T23:55:45.429267+00:00         P1   18.8  \n",
       "8852188  2023-02-28T23:55:45.429267+00:00         P0    8.4  \n",
       "8852191  2023-02-28T23:56:17.438376+00:00         P2   12.6  \n",
       "8852192  2023-02-28T23:56:17.438376+00:00         P1   15.4  \n",
       "8852193  2023-02-28T23:56:17.438376+00:00         P0    9.6  \n",
       "\n",
       "[5115475 rows x 8 columns]"
      ]
     },
     "execution_count": 18,
     "metadata": {},
     "output_type": "execute_result"
    }
   ],
   "source": [
    "sds011_rows = merged_df[merged_df['sensor_type'] == 'pms5003']\n",
    "sds011_rows"
   ]
  },
  {
   "cell_type": "markdown",
   "id": "6d426abd-d553-42be-ab16-160e9459456a",
   "metadata": {},
   "source": [
    "Measurements by different sensors\n",
    "\n",
    "    DHT22 - humidity and temperature\n",
    "    SDS011 - p1 and p2\n",
    "    pms5003 - p0, p1 and p2"
   ]
  },
  {
   "cell_type": "code",
   "execution_count": 19,
   "id": "d39c8979-720e-499a-81d0-47a44c3dd59f",
   "metadata": {},
   "outputs": [],
   "source": [
    "sensor_type_counts = merged_df[\"sensor_type\"].value_counts().reset_index()\n",
    "sensor_type_counts.columns = [\"sensor_type\", \"readings_count\"]"
   ]
  },
  {
   "cell_type": "code",
   "execution_count": 20,
   "id": "b8bae199-c1d8-415a-8f07-9a55d64f6ad6",
   "metadata": {
    "scrolled": true
   },
   "outputs": [
    {
     "data": {
      "image/png": "[encoded data removed]",
      "text/plain": [
       "<Figure size 600x600 with 1 Axes>"
      ]
     },
     "metadata": {},
     "output_type": "display_data"
    }
   ],
   "source": [
    "plt.figure(figsize=(6, 6))\n",
    "plt.pie(sensor_type_counts[\"readings_count\"], labels=sensor_type_counts[\"sensor_type\"], autopct='%1.1f%%', colors=sns.color_palette(\"Set2\"))\n",
    "\n",
    "plt.title(\"Proportion of Sensor Types\")\n",
    "plt.show()\n"
   ]
  },
  {
   "cell_type": "code",
   "execution_count": 21,
   "id": "070d5f2c-c273-4e7e-9791-40528c9d0441",
   "metadata": {},
   "outputs": [],
   "source": [
    "#Readings per sensor"
   ]
  },
  {
   "cell_type": "code",
   "execution_count": null,
   "id": "3ac9c1f6-b506-4e47-a614-e7d4af2f80dc",
   "metadata": {},
   "outputs": [],
   "source": [
    "\n",
    "# Filter data for a specific sensor\n",
    "sensor_50_data = merged_df[merged_df['sensor_id'] == 50]\n",
    "\n",
    "# Plot\n",
    "plt.figure(figsize=(10, 6))\n",
    "plt.plot(sensor_50_data['timestamp'], sensor_50_data['value'], label='Sensor 50')\n",
    "plt.xlabel('Timestamp')\n",
    "plt.ylabel('Value')\n",
    "plt.title('Sensor 5- Values Over Time')\n",
    "plt.legend()\n",
    "plt.show()\n"
   ]
  },
  {
   "cell_type": "code",
   "execution_count": null,
   "id": "3da0bdc9-dab7-4db9-85d1-96c71b8ec3e2",
   "metadata": {},
   "outputs": [],
   "source": [
    "#visualize the data for sensor 49"
   ]
  },
  {
   "cell_type": "code",
   "execution_count": null,
   "id": "bb4772d4-1397-4fd7-8d9d-79980c9f998c",
   "metadata": {},
   "outputs": [],
   "source": [
    "import matplotlib.pyplot as plt\n",
    "\n",
    "# Filter data for a specific sensor\n",
    "sensor_49_data = merged_df[merged_df['sensor_id'] == 49]\n",
    "\n",
    "# Plot\n",
    "plt.figure(figsize=(10, 6))\n",
    "plt.plot(sensor_49_data['timestamp'], sensor_49_data['value'], label='Sensor 49')\n",
    "plt.xlabel('Timestamp')\n",
    "plt.ylabel('Value')\n",
    "plt.title('Sensor 49 Values Over Time')\n",
    "plt.legend()\n",
    "plt.show()"
   ]
  },
  {
   "cell_type": "code",
   "execution_count": null,
   "id": "25052d28-86cd-4bd7-bc0c-6c2abbbd06ad",
   "metadata": {},
   "outputs": [],
   "source": [
    "#visualize the data for sensor 50"
   ]
  },
  {
   "cell_type": "code",
   "execution_count": null,
   "id": "0dc13e59-292c-4672-bce4-2038fe260bef",
   "metadata": {},
   "outputs": [],
   "source": [
    "sensor_50_data = merged_df[merged_df['sensor_id'] == 50]\n",
    "\n",
    "# Plot\n",
    "plt.figure(figsize=(10, 6))\n",
    "plt.plot(sensor_50_data['timestamp'], sensor_50_data['value'], label='Sensor 50')\n",
    "plt.xlabel('Timestamp')\n",
    "plt.ylabel('Value')\n",
    "plt.title('Sensor 50 Values Over Time')\n",
    "plt.legend()\n",
    "plt.show()"
   ]
  },
  {
   "cell_type": "code",
   "execution_count": null,
   "id": "1e4d8cfe-87b7-47e3-969f-9699bee17076",
   "metadata": {},
   "outputs": [],
   "source": [
    "#reading per sensor"
   ]
  },
  {
   "cell_type": "code",
   "execution_count": null,
   "id": "ee3ae46b-bda0-44cc-90ef-eb24c7681752",
   "metadata": {},
   "outputs": [],
   "source": [
    "# Group by sensor_id and value_type, then calculate the mean value"
   ]
  },
  {
   "cell_type": "code",
   "execution_count": null,
   "id": "8be38f75-e48d-486c-9c37-7bc4dac767cb",
   "metadata": {},
   "outputs": [],
   "source": [
    "sensor_stats = merged_df.groupby(['sensor_id', 'value_type'])['value'].mean().reset_index()\n",
    "sensor_stats.head(20)"
   ]
  },
  {
   "cell_type": "code",
   "execution_count": null,
   "id": "5b347906-7122-4e09-b38c-1c40ead77f28",
   "metadata": {},
   "outputs": [],
   "source": [
    "#visualize the sensor locations"
   ]
  },
  {
   "cell_type": "code",
   "execution_count": null,
   "id": "98aba83f-7c7c-4bbc-a0ec-4b0d7d297e9f",
   "metadata": {},
   "outputs": [],
   "source": [
    "#!pip install folium"
   ]
  },
  {
   "cell_type": "code",
   "execution_count": null,
   "id": "ec093fd7-a2da-4bf3-9af5-f3be964b6939",
   "metadata": {},
   "outputs": [],
   "source": [
    "import folium\n",
    "\n",
    "# Create a base map centered around the mean latitude and longitude\n",
    "mean_lat = merged_df['lat'].mean()\n",
    "mean_lon = merged_df['lon'].mean()\n",
    "m = folium.Map(location=[mean_lat, mean_lon], zoom_start=12)\n",
    "\n",
    "# Add markers for each sensor location\n",
    "for idx, row in merged_df.drop_duplicates(subset=['sensor_id']).iterrows():\n",
    "    folium.Marker(\n",
    "        location=[row['lat'], row['lon']],\n",
    "        popup=f\"Sensor ID: {row['sensor_id']}<br>Type: {row['sensor_type']}\",\n",
    "        tooltip=f\"Location {row['location']}\"\n",
    "    ).add_to(m)\n",
    "\n",
    "# Display the map\n",
    "m.save('sensor_locations.html')  # Save to an HTML file\n",
    "m  # Display in a Jupyter Notebook"
   ]
  },
  {
   "cell_type": "code",
   "execution_count": null,
   "id": "59897690-dc6b-4f56-a239-f66a4dc5268b",
   "metadata": {},
   "outputs": [],
   "source": []
  },
  {
   "cell_type": "markdown",
   "id": "d8ac8d7b-558e-4837-b1fb-ff7c6eaed6ef",
   "metadata": {},
   "source": [
    "### Data Preprocessing"
   ]
  },
  {
   "cell_type": "code",
   "execution_count": null,
   "id": "f351b6b5-9dc1-4eb9-a3f0-fbe42c5b9cfa",
   "metadata": {},
   "outputs": [],
   "source": [
    "#change TIMESTAMP to datetime"
   ]
  },
  {
   "cell_type": "code",
   "execution_count": null,
   "id": "1f3ba1e2-9f5a-4efb-a846-56dea77e9796",
   "metadata": {},
   "outputs": [],
   "source": [
    "merged_df['timestamp'] = pd.to_datetime(merged_df['timestamp'],format='ISO8601')\n",
    "\n",
    "# Verify the conversion\n",
    "print(merged_df['timestamp'].dtype)  # Should output: datetime64[ns]"
   ]
  },
  {
   "cell_type": "code",
   "execution_count": null,
   "id": "06967e1a-5f08-4b2f-88cc-feba7c13a45f",
   "metadata": {},
   "outputs": [],
   "source": [
    "#Aggregate the data to 1 hour"
   ]
  },
  {
   "cell_type": "code",
   "execution_count": null,
   "id": "f14d1b57-ffb8-4b6f-aac1-dce00b12ee15",
   "metadata": {},
   "outputs": [],
   "source": [
    "# Floor timestamps to hourly intervals\n",
    "merged_df[\"hourly_timestamp\"] = merged_df[\"timestamp\"].dt.floor(\"h\")\n",
    "\n",
    "# Group by relevant columns\n",
    "hourly_data = merged_df.groupby(\n",
    "    [\"hourly_timestamp\", \"sensor_id\", \"sensor_type\", \"location\", \"lat\", \"lon\", \"value_type\"]\n",
    ").agg(\n",
    "    readings_count=(\"value\", \"count\"),  # Number of readings per hour\n",
    "    avg_value=(\"value\", \"mean\"),       # Average value per hour\n",
    "    min_value=(\"value\", \"min\"),        # Minimum value per hour\n",
    "    max_value=(\"value\", \"max\"),        # Maximum value per hour\n",
    ").reset_index()\n",
    "\n",
    "# Rename for clarity\n",
    "hourly_data.rename(columns={\"hourly_timestamp\": \"timestamp\"}, inplace=True)"
   ]
  },
  {
   "cell_type": "code",
   "execution_count": null,
   "id": "1bc6f364-2d54-4cf2-9085-1f294bc15391",
   "metadata": {},
   "outputs": [],
   "source": [
    "hourly_data.head()"
   ]
  },
  {
   "cell_type": "code",
   "execution_count": null,
   "id": "00fdf1bc-9600-455a-93a3-365ded266a87",
   "metadata": {},
   "outputs": [],
   "source": [
    "hourly_data.shape"
   ]
  },
  {
   "cell_type": "code",
   "execution_count": null,
   "id": "8749556a-4502-449d-93b0-737f8fd5bbf5",
   "metadata": {},
   "outputs": [],
   "source": []
  },
  {
   "cell_type": "markdown",
   "id": "6e777ed6-e7ae-4555-af23-5506a430ad47",
   "metadata": {},
   "source": [
    "### DBSCAN"
   ]
  },
  {
   "cell_type": "code",
   "execution_count": null,
   "id": "fc9cb369-6175-4387-a3d6-7dcf165f6d26",
   "metadata": {},
   "outputs": [],
   "source": [
    "performing DBSCAN using P2 "
   ]
  },
  {
   "cell_type": "code",
   "execution_count": null,
   "id": "23815760-d948-4716-bb81-837aff2997f3",
   "metadata": {
    "scrolled": true
   },
   "outputs": [],
   "source": [
    "# Select relevant columns for DBSCAN\n",
    "hourly_data = hourly_data[hourly_data['value_type'] == 'P2']\n",
    "\n",
    "# Take a random sample of the data (e.g., 10%)\n",
    "\n",
    "hourly_data = hourly_data.sample(frac=0.4, random_state=42)\n",
    "X = hourly_data[['avg_value']]\n",
    "\n",
    "# Normalize the data\n",
    "scaler = StandardScaler()\n",
    "X_scaled = scaler.fit_transform(X)\n",
    "\n",
    "# Apply DBSCAN\n",
    "dbscan = DBSCAN(eps=0.3, min_samples=20)  # Tune these parameters\n",
    "hourly_data['anomaly'] = dbscan.fit_predict(X_scaled)\n",
    "\n",
    "# Anomalies are labeled as -1\n",
    "anomalies = hourly_data[hourly_data['anomaly'] == -1]\n",
    "\n",
    "# Visualize anomalies over time\n",
    "plt.figure(figsize=(12, 6))\n",
    "sns.scatterplot(x='timestamp', y='avg_value', hue='anomaly', data=hourly_data, palette='viridis')\n",
    "plt.title('Hourly Averaged Data with Anomalies Detected by DBSCAN')\n",
    "plt.xlabel('Timestamp')\n",
    "plt.ylabel('Average Value')\n",
    "plt.legend(title='Anomaly')\n",
    "plt.show()\n",
    "\n",
    "print(\"Anomalies detected:\")\n",
    "print(anomalies)"
   ]
  },
  {
   "cell_type": "code",
   "execution_count": null,
   "id": "91d4cece-19f1-4f09-bbcc-75ef84016c5f",
   "metadata": {},
   "outputs": [],
   "source": []
  },
  {
   "cell_type": "code",
   "execution_count": null,
   "id": "5836a72c-2174-441a-8f3c-ed252bc2eb1c",
   "metadata": {},
   "outputs": [],
   "source": []
  },
  {
   "cell_type": "code",
   "execution_count": null,
   "id": "c2006236-d9a7-45ea-a96f-9e4a9096ad5e",
   "metadata": {},
   "outputs": [],
   "source": []
  },
  {
   "cell_type": "code",
   "execution_count": null,
   "id": "ff964afd-ea1f-46e3-8eb4-dd333dd9024a",
   "metadata": {},
   "outputs": [],
   "source": []
  }
 ],
 "metadata": {
  "kernelspec": {
   "display_name": "Python 3 (ipykernel)",
   "language": "python",
   "name": "python3"
  },
  "language_info": {
   "codemirror_mode": {
    "name": "ipython",
    "version": 3
   },
   "file_extension": ".py",
   "mimetype": "text/x-python",
   "name": "python",
   "nbconvert_exporter": "python",
   "pygments_lexer": "ipython3",
   "version": "3.12.7"
  }
 },
 "nbformat": 4,
 "nbformat_minor": 5
}
